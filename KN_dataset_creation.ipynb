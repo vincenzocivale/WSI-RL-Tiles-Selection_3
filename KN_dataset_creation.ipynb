{
 "cells": [
  {
   "cell_type": "code",
   "execution_count": 1,
   "id": "c39754fc",
   "metadata": {},
   "outputs": [
    {
     "name": "stderr",
     "output_type": "stream",
     "text": [
      "/home/vcivale/WSI-RL-Tiles-Selection_3/.venv/lib/python3.10/site-packages/tqdm/auto.py:21: TqdmWarning: IProgress not found. Please update jupyter and ipywidgets. See https://ipywidgets.readthedocs.io/en/stable/user_install.html\n",
      "  from .autonotebook import tqdm as notebook_tqdm\n"
     ]
    }
   ],
   "source": [
    "import h5py\n",
    "import os\n",
    "import torch\n",
    "from tqdm import tqdm\n",
    "import numpy as np\n",
    "import pandas as pd\n",
    "import datasets\n",
    "from datasets import Dataset, Sequence, Value"
   ]
  },
  {
   "cell_type": "code",
   "execution_count": 2,
   "id": "34c9a37a",
   "metadata": {},
   "outputs": [],
   "source": [
    "FEATURES_FOLDER = '/equilibrium/datasets/TCGA-histological-data/hest_dataset/patches_embeddings'\n",
    "SLIDE_EMBEDDINGS_FOLDER = '/equilibrium/datasets/TCGA-histological-data/hest_dataset/slide_embeddings'"
   ]
  },
  {
   "cell_type": "code",
   "execution_count": 3,
   "id": "6af5c9cf",
   "metadata": {},
   "outputs": [
    {
     "name": "stderr",
     "output_type": "stream",
     "text": [
      "  0%|          | 0/121 [00:00<?, ?it/s]"
     ]
    },
    {
     "name": "stderr",
     "output_type": "stream",
     "text": [
      "100%|██████████| 121/121 [00:00<00:00, 191.09it/s]\n"
     ]
    }
   ],
   "source": [
    "\n",
    "data = []\n",
    "\n",
    "for fname in tqdm(sorted(os.listdir(FEATURES_FOLDER))):\n",
    "    if not fname.endswith('.h5'):\n",
    "        continue\n",
    "\n",
    "    sample_id = fname.replace('.h5', '')\n",
    "    target_path = os.path.join(SLIDE_EMBEDDINGS_FOLDER, f\"{sample_id}_embedding.npy\")\n",
    "    \n",
    "    # Salta se non esiste il target\n",
    "    if not os.path.exists(target_path):\n",
    "        continue\n",
    "\n",
    "    # Carica le features\n",
    "    feature_path = os.path.join(FEATURES_FOLDER, fname)\n",
    "    with h5py.File(feature_path, 'r') as hf:\n",
    "        features = hf['embeddings'][:].astype(np.float32)\n",
    "\n",
    "    # Carica il target\n",
    "    target = np.load(target_path).astype(np.float32)\n",
    "\n",
    "\n",
    "    if len(features[0]) != len(target[0]):\n",
    "        raise ValueError(f\"Feature length {len(features[0])} does not match target length {len(target[0])} for sample {sample_id}.\")\n",
    "    \n",
    "    data.append({\n",
    "        'id': sample_id,\n",
    "        'features': features,\n",
    "        'targets': target[0]\n",
    "    })\n",
    "\n",
    "# === CREA DATASET HUGGING FACE ===\n",
    "dataset = Dataset.from_list(data)"
   ]
  },
  {
   "cell_type": "code",
   "execution_count": 4,
   "id": "596be96f",
   "metadata": {},
   "outputs": [],
   "source": [
    "dataset = dataset.train_test_split(test_size=0.2)"
   ]
  },
  {
   "cell_type": "code",
   "execution_count": 5,
   "id": "06e3dd00",
   "metadata": {},
   "outputs": [
    {
     "name": "stderr",
     "output_type": "stream",
     "text": [
      "Saving the dataset (0/1 shards):   0%|          | 0/94 [00:00<?, ? examples/s]"
     ]
    },
    {
     "name": "stderr",
     "output_type": "stream",
     "text": [
      "Saving the dataset (1/1 shards): 100%|██████████| 94/94 [00:02<00:00, 33.53 examples/s] \n",
      "Saving the dataset (1/1 shards): 100%|██████████| 24/24 [00:00<00:00, 53.32 examples/s] \n"
     ]
    }
   ],
   "source": [
    "\n",
    "dataset.save_to_disk('/equilibrium/datasets/TCGA-histological-data/huggingfac/KN_dataset')"
   ]
  },
  {
   "cell_type": "code",
   "execution_count": 6,
   "id": "1c10a902",
   "metadata": {},
   "outputs": [
    {
     "data": {
      "text/plain": [
       "DatasetDict({\n",
       "    train: Dataset({\n",
       "        features: ['id', 'features', 'targets'],\n",
       "        num_rows: 94\n",
       "    })\n",
       "    test: Dataset({\n",
       "        features: ['id', 'features', 'targets'],\n",
       "        num_rows: 24\n",
       "    })\n",
       "})"
      ]
     },
     "execution_count": 6,
     "metadata": {},
     "output_type": "execute_result"
    }
   ],
   "source": [
    "dataset"
   ]
  },
  {
   "cell_type": "code",
   "execution_count": 7,
   "id": "6452b754",
   "metadata": {},
   "outputs": [
    {
     "data": {
      "text/plain": [
       "list"
      ]
     },
     "execution_count": 7,
     "metadata": {},
     "output_type": "execute_result"
    }
   ],
   "source": [
    "type(dataset['train']['features'][0])"
   ]
  }
 ],
 "metadata": {
  "kernelspec": {
   "display_name": ".venv",
   "language": "python",
   "name": "python3"
  },
  "language_info": {
   "codemirror_mode": {
    "name": "ipython",
    "version": 3
   },
   "file_extension": ".py",
   "mimetype": "text/x-python",
   "name": "python",
   "nbconvert_exporter": "python",
   "pygments_lexer": "ipython3",
   "version": "3.10.12"
  }
 },
 "nbformat": 4,
 "nbformat_minor": 5
}
