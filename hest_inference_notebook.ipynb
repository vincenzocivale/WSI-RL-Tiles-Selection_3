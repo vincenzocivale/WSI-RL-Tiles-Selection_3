{
 "cells": [
  {
   "cell_type": "code",
   "execution_count": 1,
   "id": "ab382210",
   "metadata": {},
   "outputs": [
    {
     "name": "stdout",
     "output_type": "stream",
     "text": [
      "Dispositivo utilizzato: cuda\n",
      "CUDA disponibile: True\n",
      "GPU: NVIDIA GeForce RTX 2080 Ti\n",
      "Memoria GPU: 10.8 GB\n"
     ]
    }
   ],
   "source": [
    "# Importa le librerie necessarie\n",
    "import os\n",
    "import torch\n",
    "import torchvision.transforms as transforms\n",
    "import h5py\n",
    "import numpy as np\n",
    "from PIL import Image\n",
    "import matplotlib.pyplot as plt\n",
    "from tqdm import tqdm\n",
    "import warnings\n",
    "warnings.filterwarnings('ignore')\n",
    "\n",
    "# Verifica disponibilità GPU\n",
    "device = torch.device('cuda' if torch.cuda.is_available() else 'cpu')\n",
    "print(f\"Dispositivo utilizzato: {device}\")\n",
    "print(f\"CUDA disponibile: {torch.cuda.is_available()}\")\n",
    "if torch.cuda.is_available():\n",
    "    print(f\"GPU: {torch.cuda.get_device_name(0)}\")\n",
    "    print(f\"Memoria GPU: {torch.cuda.get_device_properties(0).total_memory / 1024**3:.1f} GB\")"
   ]
  },
  {
   "cell_type": "code",
   "execution_count": 2,
   "id": "771c7eff",
   "metadata": {},
   "outputs": [
    {
     "name": "stderr",
     "output_type": "stream",
     "text": [
      "Extracting Embeddings: 100%|██████████| 2/2 [00:03<00:00,  1.97s/it]"
     ]
    },
    {
     "name": "stdout",
     "output_type": "stream",
     "text": [
      "Embeddings saved to dummy_embeddings.h5\n",
      "Shape of the extracted embeddings: (100, 768)\n"
     ]
    },
    {
     "name": "stderr",
     "output_type": "stream",
     "text": [
      "\n"
     ]
    }
   ],
   "source": [
    "from src.embedding_extractor import EmbeddingExtractor\n",
    "\n",
    "# Example usage:\n",
    "# Create a dummy H5 file with random patches for demonstration\n",
    "h5_path = 'dummy_patches.h5'\n",
    "output_path = 'dummy_embeddings.h5'\n",
    "\n",
    "with h5py.File(h5_path, 'w') as hf:\n",
    "    hf.create_dataset('patches', data=np.random.randint(0, 256, (100, 224, 224, 3), dtype=np.uint8))\n",
    "\n",
    "# Initialize the extractor with a model\n",
    "# You can choose any model from the encoder_factory\n",
    "extractor = EmbeddingExtractor(model_name='conch_v15')\n",
    "\n",
    "# Extract embeddings\n",
    "extractor.extract_embeddings(h5_path, output_path)\n",
    "\n",
    "# Verify the output\n",
    "with h5py.File(output_path, 'r') as hf:\n",
    "    embeddings = hf['embeddings'][:]\n",
    "    print(f\"Shape of the extracted embeddings: {embeddings.shape}\")\n"
   ]
  }
 ],
 "metadata": {
  "kernelspec": {
   "display_name": ".venv",
   "language": "python",
   "name": "python3"
  },
  "language_info": {
   "codemirror_mode": {
    "name": "ipython",
    "version": 3
   },
   "file_extension": ".py",
   "mimetype": "text/x-python",
   "name": "python",
   "nbconvert_exporter": "python",
   "pygments_lexer": "ipython3",
   "version": "3.10.12"
  }
 },
 "nbformat": 4,
 "nbformat_minor": 5
}
