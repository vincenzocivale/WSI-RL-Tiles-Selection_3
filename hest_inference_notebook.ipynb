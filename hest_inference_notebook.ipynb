{
 "cells": [
  {
   "cell_type": "code",
   "execution_count": 1,
   "id": "ab382210",
   "metadata": {},
   "outputs": [
    {
     "name": "stdout",
     "output_type": "stream",
     "text": [
      "Dispositivo utilizzato: cuda\n",
      "CUDA disponibile: True\n",
      "GPU: NVIDIA GeForce RTX 2080 Ti\n",
      "Memoria GPU: 10.8 GB\n"
     ]
    }
   ],
   "source": [
    "# Importa le librerie necessarie\n",
    "import os\n",
    "import torch\n",
    "import torchvision.transforms as transforms\n",
    "import h5py\n",
    "import numpy as np\n",
    "from PIL import Image\n",
    "import matplotlib.pyplot as plt\n",
    "from tqdm import tqdm\n",
    "import warnings\n",
    "warnings.filterwarnings('ignore')\n",
    "\n",
    "# Verifica disponibilità GPU\n",
    "device = torch.device('cuda' if torch.cuda.is_available() else 'cpu')\n",
    "print(f\"Dispositivo utilizzato: {device}\")\n",
    "print(f\"CUDA disponibile: {torch.cuda.is_available()}\")\n",
    "if torch.cuda.is_available():\n",
    "    print(f\"GPU: {torch.cuda.get_device_name(0)}\")\n",
    "    print(f\"Memoria GPU: {torch.cuda.get_device_properties(0).total_memory / 1024**3:.1f} GB\")"
   ]
  },
  {
   "cell_type": "code",
   "execution_count": 2,
   "id": "771c7eff",
   "metadata": {},
   "outputs": [
    {
     "name": "stdout",
     "output_type": "stream",
     "text": [
      "Processing /equilibrium/datasets/TCGA-histological-data/hest_dataset/patches/SPA110.h5...\n"
     ]
    },
    {
     "name": "stderr",
     "output_type": "stream",
     "text": [
      "Extracting Embeddings: 100%|██████████| 13/13 [00:09<00:00,  1.40it/s]\n",
      "\n"
     ]
    },
    {
     "name": "stdout",
     "output_type": "stream",
     "text": [
      "Embeddings saved to /equilibrium/datasets/TCGA-histological-data/hest_dataset/patches_embeddings/SPA110.h5\n",
      "Processing /equilibrium/datasets/TCGA-histological-data/hest_dataset/patches/SPA139.h5...\n"
     ]
    },
    {
     "name": "stderr",
     "output_type": "stream",
     "text": [
      "Extracting Embeddings: 100%|██████████| 6/6 [00:03<00:00,  1.52it/s]\n",
      "\n"
     ]
    },
    {
     "name": "stdout",
     "output_type": "stream",
     "text": [
      "Embeddings saved to /equilibrium/datasets/TCGA-histological-data/hest_dataset/patches_embeddings/SPA139.h5\n",
      "Processing /equilibrium/datasets/TCGA-histological-data/hest_dataset/patches/SPA64.h5...\n"
     ]
    },
    {
     "name": "stderr",
     "output_type": "stream",
     "text": [
      "Extracting Embeddings: 100%|██████████| 15/15 [00:08<00:00,  1.68it/s]\n",
      "\n"
     ]
    },
    {
     "name": "stdout",
     "output_type": "stream",
     "text": [
      "Embeddings saved to /equilibrium/datasets/TCGA-histological-data/hest_dataset/patches_embeddings/SPA64.h5\n",
      "Processing /equilibrium/datasets/TCGA-histological-data/hest_dataset/patches/SPA145.h5...\n"
     ]
    },
    {
     "name": "stderr",
     "output_type": "stream",
     "text": [
      "Extracting Embeddings: 100%|██████████| 9/9 [00:06<00:00,  1.50it/s]\n",
      "\n"
     ]
    },
    {
     "name": "stdout",
     "output_type": "stream",
     "text": [
      "Embeddings saved to /equilibrium/datasets/TCGA-histological-data/hest_dataset/patches_embeddings/SPA145.h5\n",
      "Processing /equilibrium/datasets/TCGA-histological-data/hest_dataset/patches/SPA90.h5...\n"
     ]
    },
    {
     "name": "stderr",
     "output_type": "stream",
     "text": [
      "Extracting Embeddings: 100%|██████████| 11/11 [00:07<00:00,  1.52it/s]\n",
      "\n"
     ]
    },
    {
     "name": "stdout",
     "output_type": "stream",
     "text": [
      "Embeddings saved to /equilibrium/datasets/TCGA-histological-data/hest_dataset/patches_embeddings/SPA90.h5\n",
      "Processing /equilibrium/datasets/TCGA-histological-data/hest_dataset/patches/SPA3.h5...\n"
     ]
    },
    {
     "name": "stderr",
     "output_type": "stream",
     "text": [
      "Extracting Embeddings: 100%|██████████| 8/8 [00:05<00:00,  1.47it/s]\n",
      "\n"
     ]
    },
    {
     "name": "stdout",
     "output_type": "stream",
     "text": [
      "Embeddings saved to /equilibrium/datasets/TCGA-histological-data/hest_dataset/patches_embeddings/SPA3.h5\n",
      "Processing /equilibrium/datasets/TCGA-histological-data/hest_dataset/patches/SPA134.h5...\n"
     ]
    },
    {
     "name": "stderr",
     "output_type": "stream",
     "text": [
      "Extracting Embeddings: 100%|██████████| 10/10 [00:05<00:00,  1.69it/s]\n",
      "\n"
     ]
    },
    {
     "name": "stdout",
     "output_type": "stream",
     "text": [
      "Embeddings saved to /equilibrium/datasets/TCGA-histological-data/hest_dataset/patches_embeddings/SPA134.h5\n",
      "Processing /equilibrium/datasets/TCGA-histological-data/hest_dataset/patches/SPA154.h5...\n"
     ]
    },
    {
     "name": "stderr",
     "output_type": "stream",
     "text": [
      "Extracting Embeddings: 100%|██████████| 11/11 [00:06<00:00,  1.57it/s]\n",
      "\n"
     ]
    },
    {
     "name": "stdout",
     "output_type": "stream",
     "text": [
      "Embeddings saved to /equilibrium/datasets/TCGA-histological-data/hest_dataset/patches_embeddings/SPA154.h5\n",
      "Processing /equilibrium/datasets/TCGA-histological-data/hest_dataset/patches/SPA119.h5...\n"
     ]
    },
    {
     "name": "stderr",
     "output_type": "stream",
     "text": [
      "Extracting Embeddings: 100%|██████████| 16/16 [00:10<00:00,  1.60it/s]\n",
      "\n"
     ]
    },
    {
     "name": "stdout",
     "output_type": "stream",
     "text": [
      "Embeddings saved to /equilibrium/datasets/TCGA-histological-data/hest_dataset/patches_embeddings/SPA119.h5\n",
      "Processing /equilibrium/datasets/TCGA-histological-data/hest_dataset/patches/SPA80.h5...\n"
     ]
    },
    {
     "name": "stderr",
     "output_type": "stream",
     "text": [
      "Extracting Embeddings: 100%|██████████| 12/12 [00:06<00:00,  1.74it/s]\n",
      "\n"
     ]
    },
    {
     "name": "stdout",
     "output_type": "stream",
     "text": [
      "Embeddings saved to /equilibrium/datasets/TCGA-histological-data/hest_dataset/patches_embeddings/SPA80.h5\n",
      "Processing /equilibrium/datasets/TCGA-histological-data/hest_dataset/patches/SPA71.h5...\n"
     ]
    },
    {
     "name": "stderr",
     "output_type": "stream",
     "text": [
      "Extracting Embeddings:   6%|▋         | 1/16 [00:00<00:09,  1.62it/s]"
     ]
    },
    {
     "name": "stdout",
     "output_type": "stream",
     "text": [
      "Embeddings saved to /equilibrium/datasets/TCGA-histological-data/hest_dataset/patches_embeddings/SPA56.h5\n",
      "Processing /equilibrium/datasets/TCGA-histological-data/hest_dataset/patches/SPA91.h5...\n"
     ]
    },
    {
     "name": "stderr",
     "output_type": "stream",
     "text": [
      "Extracting Embeddings: 100%|██████████| 10/10 [00:06<00:00,  1.58it/s]\n",
      "\n"
     ]
    },
    {
     "name": "stdout",
     "output_type": "stream",
     "text": [
      "Embeddings saved to /equilibrium/datasets/TCGA-histological-data/hest_dataset/patches_embeddings/SPA91.h5\n",
      "Processing /equilibrium/datasets/TCGA-histological-data/hest_dataset/patches/NCBI785.h5...\n"
     ]
    },
    {
     "name": "stderr",
     "output_type": "stream",
     "text": [
      "Extracting Embeddings: 100%|██████████| 128/128 [01:19<00:00,  1.61it/s]\n",
      "\n"
     ]
    },
    {
     "name": "stdout",
     "output_type": "stream",
     "text": [
      "Embeddings saved to /equilibrium/datasets/TCGA-histological-data/hest_dataset/patches_embeddings/NCBI785.h5\n",
      "Processing /equilibrium/datasets/TCGA-histological-data/hest_dataset/patches/SPA106.h5...\n"
     ]
    },
    {
     "name": "stderr",
     "output_type": "stream",
     "text": [
      "Extracting Embeddings: 100%|██████████| 14/14 [00:07<00:00,  1.81it/s]\n",
      "\n"
     ]
    },
    {
     "name": "stdout",
     "output_type": "stream",
     "text": [
      "Embeddings saved to /equilibrium/datasets/TCGA-histological-data/hest_dataset/patches_embeddings/SPA106.h5\n",
      "Processing /equilibrium/datasets/TCGA-histological-data/hest_dataset/patches/SPA95.h5...\n"
     ]
    },
    {
     "name": "stderr",
     "output_type": "stream",
     "text": [
      "Extracting Embeddings: 100%|██████████| 20/20 [00:11<00:00,  1.68it/s]\n",
      "\n"
     ]
    },
    {
     "name": "stdout",
     "output_type": "stream",
     "text": [
      "Embeddings saved to /equilibrium/datasets/TCGA-histological-data/hest_dataset/patches_embeddings/SPA95.h5\n",
      "Processing /equilibrium/datasets/TCGA-histological-data/hest_dataset/patches/SPA142.h5...\n"
     ]
    },
    {
     "name": "stderr",
     "output_type": "stream",
     "text": [
      "Extracting Embeddings: 100%|██████████| 6/6 [00:03<00:00,  1.86it/s]\n",
      "\n"
     ]
    },
    {
     "name": "stdout",
     "output_type": "stream",
     "text": [
      "Embeddings saved to /equilibrium/datasets/TCGA-histological-data/hest_dataset/patches_embeddings/SPA142.h5\n",
      "Processing /equilibrium/datasets/TCGA-histological-data/hest_dataset/patches/TENX14.h5...\n"
     ]
    },
    {
     "name": "stderr",
     "output_type": "stream",
     "text": [
      "Extracting Embeddings: 100%|██████████| 126/126 [01:18<00:00,  1.60it/s]\n",
      "\n"
     ]
    },
    {
     "name": "stdout",
     "output_type": "stream",
     "text": [
      "Embeddings saved to /equilibrium/datasets/TCGA-histological-data/hest_dataset/patches_embeddings/TENX14.h5\n",
      "Processing /equilibrium/datasets/TCGA-histological-data/hest_dataset/patches/SPA66.h5...\n"
     ]
    },
    {
     "name": "stderr",
     "output_type": "stream",
     "text": [
      "Extracting Embeddings: 100%|██████████| 16/16 [00:10<00:00,  1.58it/s]\n",
      "\n"
     ]
    },
    {
     "name": "stdout",
     "output_type": "stream",
     "text": [
      "Embeddings saved to /equilibrium/datasets/TCGA-histological-data/hest_dataset/patches_embeddings/SPA66.h5\n",
      "Processing /equilibrium/datasets/TCGA-histological-data/hest_dataset/patches/SPA128.h5...\n"
     ]
    },
    {
     "name": "stderr",
     "output_type": "stream",
     "text": [
      "Extracting Embeddings: 100%|██████████| 18/18 [00:11<00:00,  1.54it/s]\n",
      "\n"
     ]
    },
    {
     "name": "stdout",
     "output_type": "stream",
     "text": [
      "Embeddings saved to /equilibrium/datasets/TCGA-histological-data/hest_dataset/patches_embeddings/SPA128.h5\n",
      "Processing /equilibrium/datasets/TCGA-histological-data/hest_dataset/patches/SPA143.h5...\n"
     ]
    },
    {
     "name": "stderr",
     "output_type": "stream",
     "text": [
      "Extracting Embeddings: 100%|██████████| 9/9 [00:06<00:00,  1.46it/s]\n",
      "\n"
     ]
    },
    {
     "name": "stdout",
     "output_type": "stream",
     "text": [
      "Embeddings saved to /equilibrium/datasets/TCGA-histological-data/hest_dataset/patches_embeddings/SPA143.h5\n",
      "Processing /equilibrium/datasets/TCGA-histological-data/hest_dataset/patches/SPA153.h5...\n"
     ]
    },
    {
     "name": "stderr",
     "output_type": "stream",
     "text": [
      "Extracting Embeddings: 100%|██████████| 11/11 [00:06<00:00,  1.71it/s]\n",
      "\n"
     ]
    },
    {
     "name": "stdout",
     "output_type": "stream",
     "text": [
      "Embeddings saved to /equilibrium/datasets/TCGA-histological-data/hest_dataset/patches_embeddings/SPA153.h5\n",
      "Processing /equilibrium/datasets/TCGA-histological-data/hest_dataset/patches/SPA2.h5...\n"
     ]
    },
    {
     "name": "stderr",
     "output_type": "stream",
     "text": [
      "Extracting Embeddings: 100%|██████████| 8/8 [00:06<00:00,  1.20it/s]\n",
      "\n"
     ]
    },
    {
     "name": "stdout",
     "output_type": "stream",
     "text": [
      "Embeddings saved to /equilibrium/datasets/TCGA-histological-data/hest_dataset/patches_embeddings/SPA2.h5\n",
      "Processing /equilibrium/datasets/TCGA-histological-data/hest_dataset/patches/SPA123.h5...\n"
     ]
    },
    {
     "name": "stderr",
     "output_type": "stream",
     "text": [
      "Extracting Embeddings: 100%|██████████| 15/15 [00:10<00:00,  1.48it/s]\n",
      "\n"
     ]
    },
    {
     "name": "stdout",
     "output_type": "stream",
     "text": [
      "Embeddings saved to /equilibrium/datasets/TCGA-histological-data/hest_dataset/patches_embeddings/SPA123.h5\n",
      "Processing /equilibrium/datasets/TCGA-histological-data/hest_dataset/patches/SPA53.h5...\n"
     ]
    },
    {
     "name": "stderr",
     "output_type": "stream",
     "text": [
      "Extracting Embeddings: 100%|██████████| 13/13 [00:08<00:00,  1.61it/s]\n",
      "\n"
     ]
    },
    {
     "name": "stdout",
     "output_type": "stream",
     "text": [
      "Embeddings saved to /equilibrium/datasets/TCGA-histological-data/hest_dataset/patches_embeddings/SPA53.h5\n",
      "Processing /equilibrium/datasets/TCGA-histological-data/hest_dataset/patches/SPA84.h5...\n"
     ]
    },
    {
     "name": "stderr",
     "output_type": "stream",
     "text": [
      "Extracting Embeddings: 100%|██████████| 14/14 [00:08<00:00,  1.71it/s]\n",
      "\n"
     ]
    },
    {
     "name": "stdout",
     "output_type": "stream",
     "text": [
      "Embeddings saved to /equilibrium/datasets/TCGA-histological-data/hest_dataset/patches_embeddings/SPA84.h5\n",
      "Processing /equilibrium/datasets/TCGA-histological-data/hest_dataset/patches/SPA60.h5...\n"
     ]
    },
    {
     "name": "stderr",
     "output_type": "stream",
     "text": [
      "Extracting Embeddings: 100%|██████████| 11/11 [00:08<00:00,  1.36it/s]\n",
      "\n"
     ]
    },
    {
     "name": "stdout",
     "output_type": "stream",
     "text": [
      "Embeddings saved to /equilibrium/datasets/TCGA-histological-data/hest_dataset/patches_embeddings/SPA60.h5\n",
      "Processing /equilibrium/datasets/TCGA-histological-data/hest_dataset/patches/TENX98.h5...\n"
     ]
    },
    {
     "name": "stderr",
     "output_type": "stream",
     "text": [
      "Extracting Embeddings: 100%|██████████| 635/635 [08:23<00:00,  1.26it/s]\n",
      "\n"
     ]
    },
    {
     "name": "stdout",
     "output_type": "stream",
     "text": [
      "Embeddings saved to /equilibrium/datasets/TCGA-histological-data/hest_dataset/patches_embeddings/TENX98.h5\n",
      "Processing /equilibrium/datasets/TCGA-histological-data/hest_dataset/patches/SPA59.h5...\n"
     ]
    },
    {
     "name": "stderr",
     "output_type": "stream",
     "text": [
      "Extracting Embeddings: 100%|██████████| 15/15 [00:11<00:00,  1.36it/s]\n",
      "\n"
     ]
    },
    {
     "name": "stdout",
     "output_type": "stream",
     "text": [
      "Embeddings saved to /equilibrium/datasets/TCGA-histological-data/hest_dataset/patches_embeddings/SPA59.h5\n",
      "Processing /equilibrium/datasets/TCGA-histological-data/hest_dataset/patches/SPA73.h5...\n"
     ]
    },
    {
     "name": "stderr",
     "output_type": "stream",
     "text": [
      "Extracting Embeddings: 100%|██████████| 17/17 [00:11<00:00,  1.52it/s]\n",
      "\n"
     ]
    },
    {
     "name": "stdout",
     "output_type": "stream",
     "text": [
      "Embeddings saved to /equilibrium/datasets/TCGA-histological-data/hest_dataset/patches_embeddings/SPA73.h5\n",
      "Processing /equilibrium/datasets/TCGA-histological-data/hest_dataset/patches/SPA72.h5...\n"
     ]
    },
    {
     "name": "stderr",
     "output_type": "stream",
     "text": [
      "Extracting Embeddings: 100%|██████████| 18/18 [00:12<00:00,  1.40it/s]\n",
      "\n"
     ]
    },
    {
     "name": "stdout",
     "output_type": "stream",
     "text": [
      "Embeddings saved to /equilibrium/datasets/TCGA-histological-data/hest_dataset/patches_embeddings/SPA72.h5\n",
      "Processing /equilibrium/datasets/TCGA-histological-data/hest_dataset/patches/SPA77.h5...\n"
     ]
    },
    {
     "name": "stderr",
     "output_type": "stream",
     "text": [
      "Extracting Embeddings: 100%|██████████| 9/9 [00:07<00:00,  1.28it/s]\n",
      "\n"
     ]
    },
    {
     "name": "stdout",
     "output_type": "stream",
     "text": [
      "Embeddings saved to /equilibrium/datasets/TCGA-histological-data/hest_dataset/patches_embeddings/SPA77.h5\n",
      "Processing /equilibrium/datasets/TCGA-histological-data/hest_dataset/patches/SPA62.h5...\n"
     ]
    },
    {
     "name": "stderr",
     "output_type": "stream",
     "text": [
      "Extracting Embeddings: 100%|██████████| 10/10 [00:06<00:00,  1.50it/s]\n",
      "\n"
     ]
    },
    {
     "name": "stdout",
     "output_type": "stream",
     "text": [
      "Embeddings saved to /equilibrium/datasets/TCGA-histological-data/hest_dataset/patches_embeddings/SPA62.h5\n",
      "Processing /equilibrium/datasets/TCGA-histological-data/hest_dataset/patches/SPA55.h5...\n"
     ]
    },
    {
     "name": "stderr",
     "output_type": "stream",
     "text": [
      "Extracting Embeddings: 100%|██████████| 22/22 [00:15<00:00,  1.40it/s]\n",
      "\n"
     ]
    },
    {
     "name": "stdout",
     "output_type": "stream",
     "text": [
      "Embeddings saved to /equilibrium/datasets/TCGA-histological-data/hest_dataset/patches_embeddings/SPA55.h5\n",
      "Processing /equilibrium/datasets/TCGA-histological-data/hest_dataset/patches/SPA151.h5...\n"
     ]
    },
    {
     "name": "stderr",
     "output_type": "stream",
     "text": [
      "Extracting Embeddings: 100%|██████████| 11/11 [00:07<00:00,  1.57it/s]\n",
      "\n"
     ]
    },
    {
     "name": "stdout",
     "output_type": "stream",
     "text": [
      "Embeddings saved to /equilibrium/datasets/TCGA-histological-data/hest_dataset/patches_embeddings/SPA151.h5\n",
      "Processing /equilibrium/datasets/TCGA-histological-data/hest_dataset/patches/SPA129.h5...\n"
     ]
    },
    {
     "name": "stderr",
     "output_type": "stream",
     "text": [
      "Extracting Embeddings: 100%|██████████| 18/18 [00:12<00:00,  1.39it/s]\n",
      "\n"
     ]
    },
    {
     "name": "stdout",
     "output_type": "stream",
     "text": [
      "Embeddings saved to /equilibrium/datasets/TCGA-histological-data/hest_dataset/patches_embeddings/SPA129.h5\n",
      "Processing /equilibrium/datasets/TCGA-histological-data/hest_dataset/patches/SPA70.h5...\n"
     ]
    },
    {
     "name": "stderr",
     "output_type": "stream",
     "text": [
      "Extracting Embeddings: 100%|██████████| 16/16 [00:12<00:00,  1.32it/s]\n",
      "\n"
     ]
    },
    {
     "name": "stdout",
     "output_type": "stream",
     "text": [
      "Embeddings saved to /equilibrium/datasets/TCGA-histological-data/hest_dataset/patches_embeddings/SPA70.h5\n",
      "Processing /equilibrium/datasets/TCGA-histological-data/hest_dataset/patches/SPA101.h5...\n"
     ]
    },
    {
     "name": "stderr",
     "output_type": "stream",
     "text": [
      "Extracting Embeddings: 100%|██████████| 22/22 [00:17<00:00,  1.28it/s]\n",
      "\n"
     ]
    },
    {
     "name": "stdout",
     "output_type": "stream",
     "text": [
      "Embeddings saved to /equilibrium/datasets/TCGA-histological-data/hest_dataset/patches_embeddings/SPA101.h5\n",
      "Processing /equilibrium/datasets/TCGA-histological-data/hest_dataset/patches/SPA93.h5...\n"
     ]
    },
    {
     "name": "stderr",
     "output_type": "stream",
     "text": [
      "Extracting Embeddings: 100%|██████████| 16/16 [00:10<00:00,  1.56it/s]\n",
      "\n"
     ]
    },
    {
     "name": "stdout",
     "output_type": "stream",
     "text": [
      "Embeddings saved to /equilibrium/datasets/TCGA-histological-data/hest_dataset/patches_embeddings/SPA93.h5\n",
      "Processing /equilibrium/datasets/TCGA-histological-data/hest_dataset/patches/SPA105.h5...\n"
     ]
    },
    {
     "name": "stderr",
     "output_type": "stream",
     "text": [
      "Extracting Embeddings: 100%|██████████| 14/14 [00:09<00:00,  1.46it/s]\n",
      "\n"
     ]
    },
    {
     "name": "stdout",
     "output_type": "stream",
     "text": [
      "Embeddings saved to /equilibrium/datasets/TCGA-histological-data/hest_dataset/patches_embeddings/SPA105.h5\n",
      "Processing /equilibrium/datasets/TCGA-histological-data/hest_dataset/patches/SPA133.h5...\n"
     ]
    },
    {
     "name": "stderr",
     "output_type": "stream",
     "text": [
      "Extracting Embeddings: 100%|██████████| 10/10 [00:05<00:00,  1.74it/s]\n",
      "\n"
     ]
    },
    {
     "name": "stdout",
     "output_type": "stream",
     "text": [
      "Embeddings saved to /equilibrium/datasets/TCGA-histological-data/hest_dataset/patches_embeddings/SPA133.h5\n",
      "Processing /equilibrium/datasets/TCGA-histological-data/hest_dataset/patches/SPA109.h5...\n"
     ]
    },
    {
     "name": "stderr",
     "output_type": "stream",
     "text": [
      "Extracting Embeddings: 100%|██████████| 14/14 [00:09<00:00,  1.43it/s]\n",
      "\n"
     ]
    },
    {
     "name": "stdout",
     "output_type": "stream",
     "text": [
      "Embeddings saved to /equilibrium/datasets/TCGA-histological-data/hest_dataset/patches_embeddings/SPA109.h5\n",
      "Processing /equilibrium/datasets/TCGA-histological-data/hest_dataset/patches/SPA103.h5...\n"
     ]
    },
    {
     "name": "stderr",
     "output_type": "stream",
     "text": [
      "Extracting Embeddings: 100%|██████████| 18/18 [00:13<00:00,  1.31it/s]\n",
      "\n"
     ]
    },
    {
     "name": "stdout",
     "output_type": "stream",
     "text": [
      "Embeddings saved to /equilibrium/datasets/TCGA-histological-data/hest_dataset/patches_embeddings/SPA103.h5\n",
      "Processing /equilibrium/datasets/TCGA-histological-data/hest_dataset/patches/SPA58.h5...\n"
     ]
    },
    {
     "name": "stderr",
     "output_type": "stream",
     "text": [
      "Extracting Embeddings: 100%|██████████| 15/15 [00:09<00:00,  1.64it/s]\n",
      "\n"
     ]
    },
    {
     "name": "stdout",
     "output_type": "stream",
     "text": [
      "Embeddings saved to /equilibrium/datasets/TCGA-histological-data/hest_dataset/patches_embeddings/SPA58.h5\n",
      "Processing /equilibrium/datasets/TCGA-histological-data/hest_dataset/patches/SPA136.h5...\n"
     ]
    },
    {
     "name": "stderr",
     "output_type": "stream",
     "text": [
      "Extracting Embeddings: 100%|██████████| 10/10 [00:06<00:00,  1.66it/s]\n",
      "\n"
     ]
    },
    {
     "name": "stdout",
     "output_type": "stream",
     "text": [
      "Embeddings saved to /equilibrium/datasets/TCGA-histological-data/hest_dataset/patches_embeddings/SPA136.h5\n",
      "Processing /equilibrium/datasets/TCGA-histological-data/hest_dataset/patches/SPA81.h5...\n"
     ]
    },
    {
     "name": "stderr",
     "output_type": "stream",
     "text": [
      "Extracting Embeddings: 100%|██████████| 18/18 [00:11<00:00,  1.61it/s]\n",
      "\n"
     ]
    },
    {
     "name": "stdout",
     "output_type": "stream",
     "text": [
      "Embeddings saved to /equilibrium/datasets/TCGA-histological-data/hest_dataset/patches_embeddings/SPA81.h5\n",
      "Processing /equilibrium/datasets/TCGA-histological-data/hest_dataset/patches/SPA94.h5...\n"
     ]
    },
    {
     "name": "stderr",
     "output_type": "stream",
     "text": [
      "Extracting Embeddings: 100%|██████████| 19/19 [00:10<00:00,  1.73it/s]\n",
      "\n"
     ]
    },
    {
     "name": "stdout",
     "output_type": "stream",
     "text": [
      "Embeddings saved to /equilibrium/datasets/TCGA-histological-data/hest_dataset/patches_embeddings/SPA94.h5\n",
      "Processing /equilibrium/datasets/TCGA-histological-data/hest_dataset/patches/NCBI776.h5...\n"
     ]
    },
    {
     "name": "stderr",
     "output_type": "stream",
     "text": [
      "Extracting Embeddings: 100%|██████████| 156/156 [01:38<00:00,  1.59it/s]\n",
      "\n"
     ]
    },
    {
     "name": "stdout",
     "output_type": "stream",
     "text": [
      "Embeddings saved to /equilibrium/datasets/TCGA-histological-data/hest_dataset/patches_embeddings/NCBI776.h5\n",
      "Processing /equilibrium/datasets/TCGA-histological-data/hest_dataset/patches/SPA124.h5...\n"
     ]
    },
    {
     "name": "stderr",
     "output_type": "stream",
     "text": [
      "Extracting Embeddings: 100%|██████████| 14/14 [00:08<00:00,  1.59it/s]\n",
      "\n"
     ]
    },
    {
     "name": "stdout",
     "output_type": "stream",
     "text": [
      "Embeddings saved to /equilibrium/datasets/TCGA-histological-data/hest_dataset/patches_embeddings/SPA124.h5\n",
      "Processing /equilibrium/datasets/TCGA-histological-data/hest_dataset/patches/SPA108.h5...\n"
     ]
    },
    {
     "name": "stderr",
     "output_type": "stream",
     "text": [
      "Extracting Embeddings: 100%|██████████| 13/13 [00:08<00:00,  1.55it/s]\n",
      "\n"
     ]
    },
    {
     "name": "stdout",
     "output_type": "stream",
     "text": [
      "Embeddings saved to /equilibrium/datasets/TCGA-histological-data/hest_dataset/patches_embeddings/SPA108.h5\n",
      "Processing /equilibrium/datasets/TCGA-histological-data/hest_dataset/patches/SPA102.h5...\n"
     ]
    },
    {
     "name": "stderr",
     "output_type": "stream",
     "text": [
      "Extracting Embeddings: 100%|██████████| 18/18 [00:10<00:00,  1.66it/s]\n",
      "\n"
     ]
    },
    {
     "name": "stdout",
     "output_type": "stream",
     "text": [
      "Embeddings saved to /equilibrium/datasets/TCGA-histological-data/hest_dataset/patches_embeddings/SPA102.h5\n",
      "Processing /equilibrium/datasets/TCGA-histological-data/hest_dataset/patches/SPA97.h5...\n"
     ]
    },
    {
     "name": "stderr",
     "output_type": "stream",
     "text": [
      "Extracting Embeddings: 100%|██████████| 15/15 [00:09<00:00,  1.58it/s]\n",
      "\n"
     ]
    },
    {
     "name": "stdout",
     "output_type": "stream",
     "text": [
      "Embeddings saved to /equilibrium/datasets/TCGA-histological-data/hest_dataset/patches_embeddings/SPA97.h5\n",
      "Processing /equilibrium/datasets/TCGA-histological-data/hest_dataset/patches/TENX39.h5...\n"
     ]
    },
    {
     "name": "stderr",
     "output_type": "stream",
     "text": [
      "Extracting Embeddings: 100%|██████████| 79/79 [00:50<00:00,  1.56it/s]\n",
      "\n"
     ]
    },
    {
     "name": "stdout",
     "output_type": "stream",
     "text": [
      "Embeddings saved to /equilibrium/datasets/TCGA-histological-data/hest_dataset/patches_embeddings/TENX39.h5\n",
      "Processing /equilibrium/datasets/TCGA-histological-data/hest_dataset/patches/SPA67.h5...\n"
     ]
    },
    {
     "name": "stderr",
     "output_type": "stream",
     "text": [
      "Extracting Embeddings: 100%|██████████| 15/15 [00:09<00:00,  1.55it/s]\n",
      "\n"
     ]
    },
    {
     "name": "stdout",
     "output_type": "stream",
     "text": [
      "Embeddings saved to /equilibrium/datasets/TCGA-histological-data/hest_dataset/patches_embeddings/SPA67.h5\n",
      "Processing /equilibrium/datasets/TCGA-histological-data/hest_dataset/patches/SPA100.h5...\n"
     ]
    },
    {
     "name": "stderr",
     "output_type": "stream",
     "text": [
      "Extracting Embeddings: 100%|██████████| 22/22 [00:13<00:00,  1.59it/s]\n",
      "\n"
     ]
    },
    {
     "name": "stdout",
     "output_type": "stream",
     "text": [
      "Embeddings saved to /equilibrium/datasets/TCGA-histological-data/hest_dataset/patches_embeddings/SPA100.h5\n",
      "Processing /equilibrium/datasets/TCGA-histological-data/hest_dataset/patches/SPA96.h5...\n"
     ]
    },
    {
     "name": "stderr",
     "output_type": "stream",
     "text": [
      "Extracting Embeddings: 100%|██████████| 15/15 [00:09<00:00,  1.66it/s]\n",
      "\n"
     ]
    },
    {
     "name": "stdout",
     "output_type": "stream",
     "text": [
      "Embeddings saved to /equilibrium/datasets/TCGA-histological-data/hest_dataset/patches_embeddings/SPA96.h5\n",
      "Processing /equilibrium/datasets/TCGA-histological-data/hest_dataset/patches/SPA107.h5...\n"
     ]
    },
    {
     "name": "stderr",
     "output_type": "stream",
     "text": [
      "Extracting Embeddings: 100%|██████████| 14/14 [00:08<00:00,  1.58it/s]\n",
      "\n"
     ]
    },
    {
     "name": "stdout",
     "output_type": "stream",
     "text": [
      "Embeddings saved to /equilibrium/datasets/TCGA-histological-data/hest_dataset/patches_embeddings/SPA107.h5\n",
      "Processing /equilibrium/datasets/TCGA-histological-data/hest_dataset/patches/SPA113.h5...\n"
     ]
    },
    {
     "name": "stderr",
     "output_type": "stream",
     "text": [
      "Extracting Embeddings: 100%|██████████| 10/10 [00:06<00:00,  1.62it/s]\n",
      "\n"
     ]
    },
    {
     "name": "stdout",
     "output_type": "stream",
     "text": [
      "Embeddings saved to /equilibrium/datasets/TCGA-histological-data/hest_dataset/patches_embeddings/SPA113.h5\n",
      "Processing /equilibrium/datasets/TCGA-histological-data/hest_dataset/patches/SPA147.h5...\n"
     ]
    },
    {
     "name": "stderr",
     "output_type": "stream",
     "text": [
      "Extracting Embeddings: 100%|██████████| 9/9 [00:05<00:00,  1.59it/s]\n",
      "\n"
     ]
    },
    {
     "name": "stdout",
     "output_type": "stream",
     "text": [
      "Embeddings saved to /equilibrium/datasets/TCGA-histological-data/hest_dataset/patches_embeddings/SPA147.h5\n",
      "Processing /equilibrium/datasets/TCGA-histological-data/hest_dataset/patches/SPA92.h5...\n"
     ]
    },
    {
     "name": "stderr",
     "output_type": "stream",
     "text": [
      "Extracting Embeddings: 100%|██████████| 11/11 [00:07<00:00,  1.55it/s]\n",
      "\n"
     ]
    },
    {
     "name": "stdout",
     "output_type": "stream",
     "text": [
      "Embeddings saved to /equilibrium/datasets/TCGA-histological-data/hest_dataset/patches_embeddings/SPA92.h5\n",
      "Processing /equilibrium/datasets/TCGA-histological-data/hest_dataset/patches/SPA69.h5...\n"
     ]
    },
    {
     "name": "stderr",
     "output_type": "stream",
     "text": [
      "Extracting Embeddings: 100%|██████████| 16/16 [00:09<00:00,  1.62it/s]\n",
      "\n"
     ]
    },
    {
     "name": "stdout",
     "output_type": "stream",
     "text": [
      "Embeddings saved to /equilibrium/datasets/TCGA-histological-data/hest_dataset/patches_embeddings/SPA69.h5\n",
      "Processing /equilibrium/datasets/TCGA-histological-data/hest_dataset/patches/SPA75.h5...\n"
     ]
    },
    {
     "name": "stderr",
     "output_type": "stream",
     "text": [
      "Extracting Embeddings: 100%|██████████| 9/9 [00:05<00:00,  1.72it/s]\n",
      "\n"
     ]
    },
    {
     "name": "stdout",
     "output_type": "stream",
     "text": [
      "Embeddings saved to /equilibrium/datasets/TCGA-histological-data/hest_dataset/patches_embeddings/SPA75.h5\n",
      "Processing /equilibrium/datasets/TCGA-histological-data/hest_dataset/patches/SPA122.h5...\n"
     ]
    },
    {
     "name": "stderr",
     "output_type": "stream",
     "text": [
      "Extracting Embeddings: 100%|██████████| 15/15 [00:09<00:00,  1.57it/s]\n",
      "\n"
     ]
    },
    {
     "name": "stdout",
     "output_type": "stream",
     "text": [
      "Embeddings saved to /equilibrium/datasets/TCGA-histological-data/hest_dataset/patches_embeddings/SPA122.h5\n",
      "Processing /equilibrium/datasets/TCGA-histological-data/hest_dataset/patches/TENX68.h5...\n"
     ]
    },
    {
     "name": "stderr",
     "output_type": "stream",
     "text": [
      "Extracting Embeddings: 100%|██████████| 51/51 [00:31<00:00,  1.64it/s]\n",
      "\n"
     ]
    },
    {
     "name": "stdout",
     "output_type": "stream",
     "text": [
      "Embeddings saved to /equilibrium/datasets/TCGA-histological-data/hest_dataset/patches_embeddings/TENX68.h5\n",
      "Processing /equilibrium/datasets/TCGA-histological-data/hest_dataset/patches/SPA104.h5...\n"
     ]
    },
    {
     "name": "stderr",
     "output_type": "stream",
     "text": [
      "Extracting Embeddings: 100%|██████████| 19/19 [00:11<00:00,  1.67it/s]\n",
      "Extracting Embeddings: 100%|██████████| 19/19 [00:11<00:00,  1.67it/s]\n"
     ]
    },
    {
     "name": "stdout",
     "output_type": "stream",
     "text": [
      "Embeddings saved to /equilibrium/datasets/TCGA-histological-data/hest_dataset/patches_embeddings/SPA104.h5\n",
      "Processing /equilibrium/datasets/TCGA-histological-data/hest_dataset/patches/SPA121.h5...\n"
     ]
    },
    {
     "name": "stderr",
     "output_type": "stream",
     "text": [
      "Extracting Embeddings: 100%|██████████| 20/20 [00:12<00:00,  1.55it/s]\n",
      "\n"
     ]
    },
    {
     "name": "stdout",
     "output_type": "stream",
     "text": [
      "Embeddings saved to /equilibrium/datasets/TCGA-histological-data/hest_dataset/patches_embeddings/SPA121.h5\n",
      "Processing /equilibrium/datasets/TCGA-histological-data/hest_dataset/patches/SPA74.h5...\n"
     ]
    },
    {
     "name": "stderr",
     "output_type": "stream",
     "text": [
      "Extracting Embeddings: 100%|██████████| 16/16 [00:09<00:00,  1.63it/s]\n",
      "\n"
     ]
    },
    {
     "name": "stdout",
     "output_type": "stream",
     "text": [
      "Embeddings saved to /equilibrium/datasets/TCGA-histological-data/hest_dataset/patches_embeddings/SPA74.h5\n",
      "Processing /equilibrium/datasets/TCGA-histological-data/hest_dataset/patches/SPA112.h5...\n"
     ]
    },
    {
     "name": "stderr",
     "output_type": "stream",
     "text": [
      "Extracting Embeddings: 100%|██████████| 10/10 [00:05<00:00,  1.70it/s]\n",
      "\n"
     ]
    },
    {
     "name": "stdout",
     "output_type": "stream",
     "text": [
      "Embeddings saved to /equilibrium/datasets/TCGA-histological-data/hest_dataset/patches_embeddings/SPA112.h5\n",
      "Processing /equilibrium/datasets/TCGA-histological-data/hest_dataset/patches/SPA61.h5...\n"
     ]
    },
    {
     "name": "stderr",
     "output_type": "stream",
     "text": [
      "Extracting Embeddings: 100%|██████████| 10/10 [00:05<00:00,  1.67it/s]\n",
      "\n"
     ]
    },
    {
     "name": "stdout",
     "output_type": "stream",
     "text": [
      "Embeddings saved to /equilibrium/datasets/TCGA-histological-data/hest_dataset/patches_embeddings/SPA61.h5\n",
      "Processing /equilibrium/datasets/TCGA-histological-data/hest_dataset/patches/SPA88.h5...\n"
     ]
    },
    {
     "name": "stderr",
     "output_type": "stream",
     "text": [
      "Extracting Embeddings: 100%|██████████| 16/16 [00:09<00:00,  1.64it/s]\n",
      "\n"
     ]
    },
    {
     "name": "stdout",
     "output_type": "stream",
     "text": [
      "Embeddings saved to /equilibrium/datasets/TCGA-histological-data/hest_dataset/patches_embeddings/SPA88.h5\n",
      "Processing /equilibrium/datasets/TCGA-histological-data/hest_dataset/patches/SPA78.h5...\n"
     ]
    },
    {
     "name": "stderr",
     "output_type": "stream",
     "text": [
      "Extracting Embeddings: 100%|██████████| 12/12 [00:07<00:00,  1.52it/s]\n",
      "Extracting Embeddings: 100%|██████████| 12/12 [00:07<00:00,  1.52it/s]\n"
     ]
    },
    {
     "name": "stdout",
     "output_type": "stream",
     "text": [
      "Embeddings saved to /equilibrium/datasets/TCGA-histological-data/hest_dataset/patches_embeddings/SPA78.h5\n",
      "Processing /equilibrium/datasets/TCGA-histological-data/hest_dataset/patches/TENX99.h5...\n"
     ]
    },
    {
     "name": "stderr",
     "output_type": "stream",
     "text": [
      "Extracting Embeddings: 100%|██████████| 643/643 [06:40<00:00,  1.61it/s]\n",
      "\n"
     ]
    },
    {
     "name": "stdout",
     "output_type": "stream",
     "text": [
      "Embeddings saved to /equilibrium/datasets/TCGA-histological-data/hest_dataset/patches_embeddings/TENX99.h5\n",
      "Processing /equilibrium/datasets/TCGA-histological-data/hest_dataset/patches/SPA83.h5...\n"
     ]
    },
    {
     "name": "stderr",
     "output_type": "stream",
     "text": [
      "Extracting Embeddings: 100%|██████████| 18/18 [00:10<00:00,  1.74it/s]\n",
      "\n"
     ]
    },
    {
     "name": "stdout",
     "output_type": "stream",
     "text": [
      "Embeddings saved to /equilibrium/datasets/TCGA-histological-data/hest_dataset/patches_embeddings/SPA83.h5\n",
      "Processing /equilibrium/datasets/TCGA-histological-data/hest_dataset/patches/SPA114.h5...\n"
     ]
    },
    {
     "name": "stderr",
     "output_type": "stream",
     "text": [
      "Extracting Embeddings: 100%|██████████| 10/10 [00:05<00:00,  1.83it/s]\n",
      "\n"
     ]
    },
    {
     "name": "stdout",
     "output_type": "stream",
     "text": [
      "Embeddings saved to /equilibrium/datasets/TCGA-histological-data/hest_dataset/patches_embeddings/SPA114.h5\n",
      "Processing /equilibrium/datasets/TCGA-histological-data/hest_dataset/patches/SPA138.h5...\n"
     ]
    },
    {
     "name": "stderr",
     "output_type": "stream",
     "text": [
      "Extracting Embeddings: 100%|██████████| 6/6 [00:03<00:00,  1.63it/s]\n",
      "\n"
     ]
    },
    {
     "name": "stdout",
     "output_type": "stream",
     "text": [
      "Embeddings saved to /equilibrium/datasets/TCGA-histological-data/hest_dataset/patches_embeddings/SPA138.h5\n",
      "Processing /equilibrium/datasets/TCGA-histological-data/hest_dataset/patches/SPA120.h5...\n"
     ]
    },
    {
     "name": "stderr",
     "output_type": "stream",
     "text": [
      "Extracting Embeddings: 100%|██████████| 19/19 [00:11<00:00,  1.61it/s]\n",
      "\n"
     ]
    },
    {
     "name": "stdout",
     "output_type": "stream",
     "text": [
      "Embeddings saved to /equilibrium/datasets/TCGA-histological-data/hest_dataset/patches_embeddings/SPA120.h5\n",
      "Processing /equilibrium/datasets/TCGA-histological-data/hest_dataset/patches/SPA76.h5...\n"
     ]
    },
    {
     "name": "stderr",
     "output_type": "stream",
     "text": [
      "Extracting Embeddings: 100%|██████████| 9/9 [00:05<00:00,  1.65it/s]\n",
      "\n"
     ]
    },
    {
     "name": "stdout",
     "output_type": "stream",
     "text": [
      "Embeddings saved to /equilibrium/datasets/TCGA-histological-data/hest_dataset/patches_embeddings/SPA76.h5\n",
      "Processing /equilibrium/datasets/TCGA-histological-data/hest_dataset/patches/SPA118.h5...\n"
     ]
    },
    {
     "name": "stderr",
     "output_type": "stream",
     "text": [
      "Extracting Embeddings: 100%|██████████| 8/8 [00:05<00:00,  1.46it/s]\n",
      "\n"
     ]
    },
    {
     "name": "stdout",
     "output_type": "stream",
     "text": [
      "Embeddings saved to /equilibrium/datasets/TCGA-histological-data/hest_dataset/patches_embeddings/SPA118.h5\n",
      "Processing /equilibrium/datasets/TCGA-histological-data/hest_dataset/patches/SPA54.h5...\n"
     ]
    },
    {
     "name": "stderr",
     "output_type": "stream",
     "text": [
      "Extracting Embeddings: 100%|██████████| 19/19 [00:11<00:00,  1.64it/s]\n",
      "\n"
     ]
    },
    {
     "name": "stdout",
     "output_type": "stream",
     "text": [
      "Embeddings saved to /equilibrium/datasets/TCGA-histological-data/hest_dataset/patches_embeddings/SPA54.h5\n",
      "Processing /equilibrium/datasets/TCGA-histological-data/hest_dataset/patches/SPA131.h5...\n"
     ]
    },
    {
     "name": "stderr",
     "output_type": "stream",
     "text": [
      "Extracting Embeddings: 100%|██████████| 10/10 [00:06<00:00,  1.48it/s]\n",
      "\n"
     ]
    },
    {
     "name": "stdout",
     "output_type": "stream",
     "text": [
      "Embeddings saved to /equilibrium/datasets/TCGA-histological-data/hest_dataset/patches_embeddings/SPA131.h5\n",
      "Processing /equilibrium/datasets/TCGA-histological-data/hest_dataset/patches/SPA135.h5...\n"
     ]
    },
    {
     "name": "stderr",
     "output_type": "stream",
     "text": [
      "Extracting Embeddings: 100%|██████████| 10/10 [00:05<00:00,  1.72it/s]\n",
      "\n"
     ]
    },
    {
     "name": "stdout",
     "output_type": "stream",
     "text": [
      "Embeddings saved to /equilibrium/datasets/TCGA-histological-data/hest_dataset/patches_embeddings/SPA135.h5\n",
      "Processing /equilibrium/datasets/TCGA-histological-data/hest_dataset/patches/SPA111.h5...\n"
     ]
    },
    {
     "name": "stderr",
     "output_type": "stream",
     "text": [
      "Extracting Embeddings: 100%|██████████| 10/10 [00:06<00:00,  1.56it/s]\n",
      "\n"
     ]
    },
    {
     "name": "stdout",
     "output_type": "stream",
     "text": [
      "Embeddings saved to /equilibrium/datasets/TCGA-histological-data/hest_dataset/patches_embeddings/SPA111.h5\n",
      "Processing /equilibrium/datasets/TCGA-histological-data/hest_dataset/patches/SPA63.h5...\n"
     ]
    },
    {
     "name": "stderr",
     "output_type": "stream",
     "text": [
      "Extracting Embeddings: 100%|██████████| 17/17 [00:10<00:00,  1.69it/s]\n",
      "\n"
     ]
    },
    {
     "name": "stdout",
     "output_type": "stream",
     "text": [
      "Embeddings saved to /equilibrium/datasets/TCGA-histological-data/hest_dataset/patches_embeddings/SPA63.h5\n",
      "Processing /equilibrium/datasets/TCGA-histological-data/hest_dataset/patches/TENX53.h5...\n"
     ]
    },
    {
     "name": "stderr",
     "output_type": "stream",
     "text": [
      "Extracting Embeddings: 100%|██████████| 152/152 [01:39<00:00,  1.53it/s]\n",
      "\n"
     ]
    },
    {
     "name": "stdout",
     "output_type": "stream",
     "text": [
      "Embeddings saved to /equilibrium/datasets/TCGA-histological-data/hest_dataset/patches_embeddings/TENX53.h5\n",
      "Processing /equilibrium/datasets/TCGA-histological-data/hest_dataset/patches/SPA57.h5...\n"
     ]
    },
    {
     "name": "stderr",
     "output_type": "stream",
     "text": [
      "Extracting Embeddings: 100%|██████████| 15/15 [00:09<00:00,  1.61it/s]\n",
      "\n"
     ]
    },
    {
     "name": "stdout",
     "output_type": "stream",
     "text": [
      "Embeddings saved to /equilibrium/datasets/TCGA-histological-data/hest_dataset/patches_embeddings/SPA57.h5\n",
      "Processing /equilibrium/datasets/TCGA-histological-data/hest_dataset/patches/SPA99.h5...\n"
     ]
    },
    {
     "name": "stderr",
     "output_type": "stream",
     "text": [
      "Extracting Embeddings: 100%|██████████| 23/23 [00:13<00:00,  1.69it/s]\n",
      "\n"
     ]
    },
    {
     "name": "stdout",
     "output_type": "stream",
     "text": [
      "Embeddings saved to /equilibrium/datasets/TCGA-histological-data/hest_dataset/patches_embeddings/SPA99.h5\n",
      "Processing /equilibrium/datasets/TCGA-histological-data/hest_dataset/patches/SPA51.h5...\n"
     ]
    },
    {
     "name": "stderr",
     "output_type": "stream",
     "text": [
      "Extracting Embeddings: 100%|██████████| 14/14 [00:08<00:00,  1.70it/s]\n",
      "\n"
     ]
    },
    {
     "name": "stdout",
     "output_type": "stream",
     "text": [
      "Embeddings saved to /equilibrium/datasets/TCGA-histological-data/hest_dataset/patches_embeddings/SPA51.h5\n",
      "Processing /equilibrium/datasets/TCGA-histological-data/hest_dataset/patches/SPA65.h5...\n"
     ]
    },
    {
     "name": "stderr",
     "output_type": "stream",
     "text": [
      "Extracting Embeddings: 100%|██████████| 16/16 [00:09<00:00,  1.68it/s]\n",
      "\n"
     ]
    },
    {
     "name": "stdout",
     "output_type": "stream",
     "text": [
      "Embeddings saved to /equilibrium/datasets/TCGA-histological-data/hest_dataset/patches_embeddings/SPA65.h5\n",
      "Processing /equilibrium/datasets/TCGA-histological-data/hest_dataset/patches/SPA98.h5...\n"
     ]
    },
    {
     "name": "stderr",
     "output_type": "stream",
     "text": [
      "Extracting Embeddings: 100%|██████████| 14/14 [00:09<00:00,  1.51it/s]\n",
      "\n"
     ]
    },
    {
     "name": "stdout",
     "output_type": "stream",
     "text": [
      "Embeddings saved to /equilibrium/datasets/TCGA-histological-data/hest_dataset/patches_embeddings/SPA98.h5\n",
      "Processing /equilibrium/datasets/TCGA-histological-data/hest_dataset/patches/NCBI783.h5...\n"
     ]
    },
    {
     "name": "stderr",
     "output_type": "stream",
     "text": [
      "Extracting Embeddings: 100%|██████████| 110/110 [01:10<00:00,  1.57it/s]\n",
      "\n"
     ]
    },
    {
     "name": "stdout",
     "output_type": "stream",
     "text": [
      "Embeddings saved to /equilibrium/datasets/TCGA-histological-data/hest_dataset/patches_embeddings/NCBI783.h5\n",
      "Processing /equilibrium/datasets/TCGA-histological-data/hest_dataset/patches/SPA68.h5...\n"
     ]
    },
    {
     "name": "stderr",
     "output_type": "stream",
     "text": [
      "Extracting Embeddings: 100%|██████████| 15/15 [00:09<00:00,  1.65it/s]\n",
      "\n"
     ]
    },
    {
     "name": "stdout",
     "output_type": "stream",
     "text": [
      "Embeddings saved to /equilibrium/datasets/TCGA-histological-data/hest_dataset/patches_embeddings/SPA68.h5\n",
      "Processing /equilibrium/datasets/TCGA-histological-data/hest_dataset/patches/SPA115.h5...\n"
     ]
    },
    {
     "name": "stderr",
     "output_type": "stream",
     "text": [
      "Extracting Embeddings: 100%|██████████| 10/10 [00:06<00:00,  1.57it/s]\n",
      "\n"
     ]
    },
    {
     "name": "stdout",
     "output_type": "stream",
     "text": [
      "Embeddings saved to /equilibrium/datasets/TCGA-histological-data/hest_dataset/patches_embeddings/SPA115.h5\n",
      "Processing /equilibrium/datasets/TCGA-histological-data/hest_dataset/patches/SPA116.h5...\n"
     ]
    },
    {
     "name": "stderr",
     "output_type": "stream",
     "text": [
      "Extracting Embeddings: 100%|██████████| 12/12 [00:07<00:00,  1.68it/s]\n",
      "\n"
     ]
    },
    {
     "name": "stdout",
     "output_type": "stream",
     "text": [
      "Embeddings saved to /equilibrium/datasets/TCGA-histological-data/hest_dataset/patches_embeddings/SPA116.h5\n",
      "Processing /equilibrium/datasets/TCGA-histological-data/hest_dataset/patches/SPA140.h5...\n"
     ]
    },
    {
     "name": "stderr",
     "output_type": "stream",
     "text": [
      "Extracting Embeddings: 100%|██████████| 6/6 [00:03<00:00,  1.63it/s]\n",
      "\n"
     ]
    },
    {
     "name": "stdout",
     "output_type": "stream",
     "text": [
      "Embeddings saved to /equilibrium/datasets/TCGA-histological-data/hest_dataset/patches_embeddings/SPA140.h5\n",
      "Processing /equilibrium/datasets/TCGA-histological-data/hest_dataset/patches/SPA89.h5...\n"
     ]
    },
    {
     "name": "stderr",
     "output_type": "stream",
     "text": [
      "Extracting Embeddings: 100%|██████████| 14/14 [00:08<00:00,  1.68it/s]\n",
      "\n"
     ]
    },
    {
     "name": "stdout",
     "output_type": "stream",
     "text": [
      "Embeddings saved to /equilibrium/datasets/TCGA-histological-data/hest_dataset/patches_embeddings/SPA89.h5\n",
      "Processing /equilibrium/datasets/TCGA-histological-data/hest_dataset/patches/SPA137.h5...\n"
     ]
    },
    {
     "name": "stderr",
     "output_type": "stream",
     "text": [
      "Extracting Embeddings: 100%|██████████| 6/6 [00:03<00:00,  1.57it/s]\n",
      "\n"
     ]
    },
    {
     "name": "stdout",
     "output_type": "stream",
     "text": [
      "Embeddings saved to /equilibrium/datasets/TCGA-histological-data/hest_dataset/patches_embeddings/SPA137.h5\n",
      "Processing /equilibrium/datasets/TCGA-histological-data/hest_dataset/patches/SPA152.h5...\n"
     ]
    },
    {
     "name": "stderr",
     "output_type": "stream",
     "text": [
      "Extracting Embeddings: 100%|██████████| 12/12 [00:06<00:00,  1.74it/s]\n",
      "\n"
     ]
    },
    {
     "name": "stdout",
     "output_type": "stream",
     "text": [
      "Embeddings saved to /equilibrium/datasets/TCGA-histological-data/hest_dataset/patches_embeddings/SPA152.h5\n",
      "Processing /equilibrium/datasets/TCGA-histological-data/hest_dataset/patches/NCBI784.h5...\n"
     ]
    },
    {
     "name": "stderr",
     "output_type": "stream",
     "text": [
      "Extracting Embeddings: 100%|██████████| 91/91 [00:55<00:00,  1.63it/s]\n",
      "\n"
     ]
    },
    {
     "name": "stdout",
     "output_type": "stream",
     "text": [
      "Embeddings saved to /equilibrium/datasets/TCGA-histological-data/hest_dataset/patches_embeddings/NCBI784.h5\n",
      "Processing /equilibrium/datasets/TCGA-histological-data/hest_dataset/patches/SPA125.h5...\n"
     ]
    },
    {
     "name": "stderr",
     "output_type": "stream",
     "text": [
      "Extracting Embeddings: 100%|██████████| 23/23 [00:15<00:00,  1.50it/s]\n",
      "\n"
     ]
    },
    {
     "name": "stdout",
     "output_type": "stream",
     "text": [
      "Embeddings saved to /equilibrium/datasets/TCGA-histological-data/hest_dataset/patches_embeddings/SPA125.h5\n",
      "Processing /equilibrium/datasets/TCGA-histological-data/hest_dataset/patches/SPA85.h5...\n"
     ]
    },
    {
     "name": "stderr",
     "output_type": "stream",
     "text": [
      "Extracting Embeddings: 100%|██████████| 14/14 [00:10<00:00,  1.28it/s]\n",
      "\n"
     ]
    },
    {
     "name": "stdout",
     "output_type": "stream",
     "text": [
      "Embeddings saved to /equilibrium/datasets/TCGA-histological-data/hest_dataset/patches_embeddings/SPA85.h5\n",
      "Processing /equilibrium/datasets/TCGA-histological-data/hest_dataset/patches/SPA127.h5...\n"
     ]
    },
    {
     "name": "stderr",
     "output_type": "stream",
     "text": [
      "Extracting Embeddings: 100%|██████████| 22/22 [00:13<00:00,  1.62it/s]\n",
      "\n"
     ]
    },
    {
     "name": "stdout",
     "output_type": "stream",
     "text": [
      "Embeddings saved to /equilibrium/datasets/TCGA-histological-data/hest_dataset/patches_embeddings/SPA127.h5\n",
      "Processing /equilibrium/datasets/TCGA-histological-data/hest_dataset/patches/SPA149.h5...\n"
     ]
    },
    {
     "name": "stderr",
     "output_type": "stream",
     "text": [
      "Extracting Embeddings: 100%|██████████| 12/12 [00:07<00:00,  1.54it/s]\n",
      "\n"
     ]
    },
    {
     "name": "stdout",
     "output_type": "stream",
     "text": [
      "Embeddings saved to /equilibrium/datasets/TCGA-histological-data/hest_dataset/patches_embeddings/SPA149.h5\n",
      "Processing /equilibrium/datasets/TCGA-histological-data/hest_dataset/patches/SPA87.h5...\n"
     ]
    },
    {
     "name": "stderr",
     "output_type": "stream",
     "text": [
      "Extracting Embeddings: 100%|██████████| 16/16 [00:10<00:00,  1.57it/s]\n",
      "\n"
     ]
    },
    {
     "name": "stdout",
     "output_type": "stream",
     "text": [
      "Embeddings saved to /equilibrium/datasets/TCGA-histological-data/hest_dataset/patches_embeddings/SPA87.h5\n",
      "Processing /equilibrium/datasets/TCGA-histological-data/hest_dataset/patches/SPA117.h5...\n"
     ]
    },
    {
     "name": "stderr",
     "output_type": "stream",
     "text": [
      "Extracting Embeddings: 100%|██████████| 11/11 [00:06<00:00,  1.62it/s]\n",
      "\n"
     ]
    },
    {
     "name": "stdout",
     "output_type": "stream",
     "text": [
      "Embeddings saved to /equilibrium/datasets/TCGA-histological-data/hest_dataset/patches_embeddings/SPA117.h5\n",
      "Processing /equilibrium/datasets/TCGA-histological-data/hest_dataset/patches/SPA144.h5...\n"
     ]
    },
    {
     "name": "stderr",
     "output_type": "stream",
     "text": [
      "Extracting Embeddings: 100%|██████████| 10/10 [00:06<00:00,  1.60it/s]\n",
      "\n"
     ]
    },
    {
     "name": "stdout",
     "output_type": "stream",
     "text": [
      "Embeddings saved to /equilibrium/datasets/TCGA-histological-data/hest_dataset/patches_embeddings/SPA144.h5\n",
      "Processing /equilibrium/datasets/TCGA-histological-data/hest_dataset/patches/SPA79.h5...\n"
     ]
    },
    {
     "name": "stderr",
     "output_type": "stream",
     "text": [
      "Extracting Embeddings: 100%|██████████| 12/12 [00:07<00:00,  1.61it/s]\n",
      "\n"
     ]
    },
    {
     "name": "stdout",
     "output_type": "stream",
     "text": [
      "Embeddings saved to /equilibrium/datasets/TCGA-histological-data/hest_dataset/patches_embeddings/SPA79.h5\n",
      "Processing /equilibrium/datasets/TCGA-histological-data/hest_dataset/patches/SPA1.h5...\n"
     ]
    },
    {
     "name": "stderr",
     "output_type": "stream",
     "text": [
      "Extracting Embeddings: 100%|██████████| 9/9 [00:05<00:00,  1.70it/s]\n",
      "\n"
     ]
    },
    {
     "name": "stdout",
     "output_type": "stream",
     "text": [
      "Embeddings saved to /equilibrium/datasets/TCGA-histological-data/hest_dataset/patches_embeddings/SPA1.h5\n",
      "Processing /equilibrium/datasets/TCGA-histological-data/hest_dataset/patches/SPA141.h5...\n"
     ]
    },
    {
     "name": "stderr",
     "output_type": "stream",
     "text": [
      "Extracting Embeddings: 100%|██████████| 6/6 [00:03<00:00,  1.52it/s]\n",
      "\n"
     ]
    },
    {
     "name": "stdout",
     "output_type": "stream",
     "text": [
      "Embeddings saved to /equilibrium/datasets/TCGA-histological-data/hest_dataset/patches_embeddings/SPA141.h5\n",
      "Processing /equilibrium/datasets/TCGA-histological-data/hest_dataset/patches/SPA0.h5...\n"
     ]
    },
    {
     "name": "stderr",
     "output_type": "stream",
     "text": [
      "Extracting Embeddings: 100%|██████████| 9/9 [00:05<00:00,  1.55it/s]\n",
      "\n"
     ]
    },
    {
     "name": "stdout",
     "output_type": "stream",
     "text": [
      "Embeddings saved to /equilibrium/datasets/TCGA-histological-data/hest_dataset/patches_embeddings/SPA0.h5\n",
      "Processing /equilibrium/datasets/TCGA-histological-data/hest_dataset/patches/SPA150.h5...\n"
     ]
    },
    {
     "name": "stderr",
     "output_type": "stream",
     "text": [
      "Extracting Embeddings: 100%|██████████| 11/11 [00:06<00:00,  1.58it/s]\n",
      "\n"
     ]
    },
    {
     "name": "stdout",
     "output_type": "stream",
     "text": [
      "Embeddings saved to /equilibrium/datasets/TCGA-histological-data/hest_dataset/patches_embeddings/SPA150.h5\n",
      "Processing /equilibrium/datasets/TCGA-histological-data/hest_dataset/patches/SPA82.h5...\n"
     ]
    },
    {
     "name": "stderr",
     "output_type": "stream",
     "text": [
      "Extracting Embeddings: 100%|██████████| 19/19 [00:10<00:00,  1.73it/s]\n",
      "\n"
     ]
    },
    {
     "name": "stdout",
     "output_type": "stream",
     "text": [
      "Embeddings saved to /equilibrium/datasets/TCGA-histological-data/hest_dataset/patches_embeddings/SPA82.h5\n",
      "Processing /equilibrium/datasets/TCGA-histological-data/hest_dataset/patches/SPA86.h5...\n"
     ]
    },
    {
     "name": "stderr",
     "output_type": "stream",
     "text": [
      "Extracting Embeddings: 100%|██████████| 14/14 [00:09<00:00,  1.53it/s]\n",
      "\n"
     ]
    },
    {
     "name": "stdout",
     "output_type": "stream",
     "text": [
      "Embeddings saved to /equilibrium/datasets/TCGA-histological-data/hest_dataset/patches_embeddings/SPA86.h5\n",
      "Processing /equilibrium/datasets/TCGA-histological-data/hest_dataset/patches/TENX13.h5...\n"
     ]
    },
    {
     "name": "stderr",
     "output_type": "stream",
     "text": [
      "Extracting Embeddings: 100%|██████████| 120/120 [01:16<00:00,  1.58it/s]\n",
      "\n"
     ]
    },
    {
     "name": "stdout",
     "output_type": "stream",
     "text": [
      "Embeddings saved to /equilibrium/datasets/TCGA-histological-data/hest_dataset/patches_embeddings/TENX13.h5\n",
      "Processing /equilibrium/datasets/TCGA-histological-data/hest_dataset/patches/SPA146.h5...\n"
     ]
    },
    {
     "name": "stderr",
     "output_type": "stream",
     "text": [
      "Extracting Embeddings: 100%|██████████| 10/10 [00:06<00:00,  1.48it/s]\n",
      "\n"
     ]
    },
    {
     "name": "stdout",
     "output_type": "stream",
     "text": [
      "Embeddings saved to /equilibrium/datasets/TCGA-histological-data/hest_dataset/patches_embeddings/SPA146.h5\n",
      "Processing /equilibrium/datasets/TCGA-histological-data/hest_dataset/patches/SPA130.h5...\n"
     ]
    },
    {
     "name": "stderr",
     "output_type": "stream",
     "text": [
      "Extracting Embeddings: 100%|██████████| 19/19 [00:12<00:00,  1.47it/s]\n",
      "\n"
     ]
    },
    {
     "name": "stdout",
     "output_type": "stream",
     "text": [
      "Embeddings saved to /equilibrium/datasets/TCGA-histological-data/hest_dataset/patches_embeddings/SPA130.h5\n",
      "Processing /equilibrium/datasets/TCGA-histological-data/hest_dataset/patches/SPA52.h5...\n"
     ]
    },
    {
     "name": "stderr",
     "output_type": "stream",
     "text": [
      "Extracting Embeddings: 100%|██████████| 11/11 [00:07<00:00,  1.46it/s]\n",
      "\n"
     ]
    },
    {
     "name": "stdout",
     "output_type": "stream",
     "text": [
      "Embeddings saved to /equilibrium/datasets/TCGA-histological-data/hest_dataset/patches_embeddings/SPA52.h5\n",
      "Processing /equilibrium/datasets/TCGA-histological-data/hest_dataset/patches/SPA132.h5...\n"
     ]
    },
    {
     "name": "stderr",
     "output_type": "stream",
     "text": [
      "Extracting Embeddings: 100%|██████████| 10/10 [00:08<00:00,  1.19it/s]\n",
      "\n"
     ]
    },
    {
     "name": "stdout",
     "output_type": "stream",
     "text": [
      "Embeddings saved to /equilibrium/datasets/TCGA-histological-data/hest_dataset/patches_embeddings/SPA132.h5\n",
      "Processing /equilibrium/datasets/TCGA-histological-data/hest_dataset/patches/TENX95.h5...\n"
     ]
    },
    {
     "name": "stderr",
     "output_type": "stream",
     "text": [
      "Extracting Embeddings: 100%|██████████| 238/238 [02:51<00:00,  1.39it/s]\n",
      "\n"
     ]
    },
    {
     "name": "stdout",
     "output_type": "stream",
     "text": [
      "Embeddings saved to /equilibrium/datasets/TCGA-histological-data/hest_dataset/patches_embeddings/TENX95.h5\n",
      "Processing /equilibrium/datasets/TCGA-histological-data/hest_dataset/patches/SPA148.h5...\n"
     ]
    },
    {
     "name": "stderr",
     "output_type": "stream",
     "text": [
      "Extracting Embeddings: 100%|██████████| 10/10 [00:06<00:00,  1.50it/s]\n",
      "\n"
     ]
    },
    {
     "name": "stdout",
     "output_type": "stream",
     "text": [
      "Embeddings saved to /equilibrium/datasets/TCGA-histological-data/hest_dataset/patches_embeddings/SPA148.h5\n",
      "Processing /equilibrium/datasets/TCGA-histological-data/hest_dataset/patches/SPA126.h5...\n"
     ]
    },
    {
     "name": "stderr",
     "output_type": "stream",
     "text": [
      "Extracting Embeddings: 100%|██████████| 22/22 [00:17<00:00,  1.26it/s]\n",
      "\n"
     ]
    },
    {
     "name": "stdout",
     "output_type": "stream",
     "text": [
      "Embeddings saved to /equilibrium/datasets/TCGA-histological-data/hest_dataset/patches_embeddings/SPA126.h5\n",
      "Processing /equilibrium/datasets/TCGA-histological-data/hest_dataset/patches/TENX97.h5...\n"
     ]
    },
    {
     "name": "stderr",
     "output_type": "stream",
     "text": [
      "Extracting Embeddings: 100%|██████████| 242/242 [03:47<00:00,  1.06it/s]\n",
      "\n"
     ]
    },
    {
     "name": "stdout",
     "output_type": "stream",
     "text": [
      "Embeddings saved to /equilibrium/datasets/TCGA-histological-data/hest_dataset/patches_embeddings/TENX97.h5\n"
     ]
    }
   ],
   "source": [
    "from src.embedding_extractor import EmbeddingExtractor\n",
    "\n",
    "INPUT_FOLDER = '/equilibrium/datasets/TCGA-histological-data/hest_dataset/patches'\n",
    "OUTPUT_FOLDER = '/equilibrium/datasets/TCGA-histological-data/hest_dataset/patches_embeddings'\n",
    "BATCH_SIZE = 32\n",
    "\n",
    "extractor = EmbeddingExtractor(model_name='conch_v15', patches_key='img')\n",
    "\n",
    "# Extract embeddings\n",
    "extractor.extract_embeddings_from_folder(INPUT_FOLDER, OUTPUT_FOLDER, batch_size=BATCH_SIZE)"
   ]
  }
 ],
 "metadata": {
  "kernelspec": {
   "display_name": ".venv",
   "language": "python",
   "name": "python3"
  },
  "language_info": {
   "codemirror_mode": {
    "name": "ipython",
    "version": 3
   },
   "file_extension": ".py",
   "mimetype": "text/x-python",
   "name": "python",
   "nbconvert_exporter": "python",
   "pygments_lexer": "ipython3",
   "version": "3.10.12"
  }
 },
 "nbformat": 4,
 "nbformat_minor": 5
}
