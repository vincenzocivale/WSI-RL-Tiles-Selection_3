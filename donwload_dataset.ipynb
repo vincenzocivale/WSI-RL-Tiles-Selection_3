{
 "cells": [
  {
   "cell_type": "code",
   "execution_count": null,
   "id": "d951d92a",
   "metadata": {},
   "outputs": [
    {
     "name": "stderr",
     "output_type": "stream",
     "text": [
      "/home/vcivale/TRIDENT/.venv/lib/python3.10/site-packages/tqdm/auto.py:21: TqdmWarning: IProgress not found. Please update jupyter and ipywidgets. See https://ipywidgets.readthedocs.io/en/stable/user_install.html\n",
      "  from .autonotebook import tqdm as notebook_tqdm\n",
      "2025-07-06 12:35:54,310 - INFO - Downloading metadata file: metadata_2025-05-21.csv from nonchev/TCGA_digital_spatial_transcriptomics\n",
      "2025-07-06 12:35:55,117 - INFO - Metadata downloaded to: /home/vcivale/.cache/huggingface/hub/datasets--nonchev--TCGA_digital_spatial_transcriptomics/snapshots/51b26907124826f4d4c904824a0c4cbe303921a2/metadata_2025-05-21.csv\n",
      "2025-07-06 12:35:55,150 - INFO - Downloading metadata file: metadata_2025-05-21.csv from nonchev/TCGA_digital_spatial_transcriptomics\n"
     ]
    },
    {
     "name": "stdout",
     "output_type": "stream",
     "text": [
      "Downloaded metadata with 3779 entries.\n"
     ]
    },
    {
     "name": "stderr",
     "output_type": "stream",
     "text": [
      "2025-07-06 12:35:55,424 - INFO - Metadata downloaded to: /home/vcivale/.cache/huggingface/hub/datasets--nonchev--TCGA_digital_spatial_transcriptomics/snapshots/51b26907124826f4d4c904824a0c4cbe303921a2/metadata_2025-05-21.csv\n",
      "2025-07-06 12:35:55,452 - INFO - Preparing to download first 5 samples. This might take a while if many files.\n",
      "2025-07-06 12:35:55,454 - INFO - Starting download from nonchev/TCGA_digital_spatial_transcriptomics to /equilibrium/datasets/TCGA-histological-data/WSI/raw/h5ad with patterns: ['TCGA_SKCM/FFPE/TCGA-D9-A1JX-06Z-00-DX2.0B0F653F-D2C8-40EE-AF07-5A3DF2E3DD35.h5ad.gz', 'TCGA_SKCM/FFPE/TCGA-FS-A1ZU-06Z-00-DX3.0C477EE6-C085-42BE-8BAD-E3D6935ABE48.h5ad.gz', 'TCGA_SKCM/FFPE/TCGA-D3-A2JN-06Z-00-DX1.0AA7684E-2886-4A00-B808-39EA790B825A.h5ad.gz', 'TCGA_SKCM/FFPE/TCGA-WE-AA9Y-06Z-00-DX1.83813BA4-04FA-4AEA-A50D-B962A753A59E.h5ad.gz', 'TCGA_SKCM/FFPE/TCGA-EB-A42Y-01Z-00-DX1.C2F1ACDE-A147-4CAD-AB46-B1A4632BB4A7.h5ad.gz']\n",
      "Fetching 5 files:   0%|          | 0/5 [00:00<?, ?it/s]"
     ]
    }
   ],
   "source": [
    "from trident.data.download_spatial_data import get_metadata, download_cancer_type, download_first_n_samples, download_all_samples\n",
    "import os\n",
    "\n",
    "metadata_df = get_metadata()\n",
    "print(f\"Downloaded metadata with {len(metadata_df)} entries.\")\n",
    "\n",
    "base_data_dir = '/equilibrium/datasets/TCGA-histological-data/WSI/raw/h5ad'\n",
    "\n",
    "download_first_n_samples(n=5, output_base_dir=base_data_dir)"
   ]
  }
 ],
 "metadata": {
  "kernelspec": {
   "display_name": ".venv",
   "language": "python",
   "name": "python3"
  },
  "language_info": {
   "codemirror_mode": {
    "name": "ipython",
    "version": 3
   },
   "file_extension": ".py",
   "mimetype": "text/x-python",
   "name": "python",
   "nbconvert_exporter": "python",
   "pygments_lexer": "ipython3",
   "version": "3.10.12"
  }
 },
 "nbformat": 4,
 "nbformat_minor": 5
}
