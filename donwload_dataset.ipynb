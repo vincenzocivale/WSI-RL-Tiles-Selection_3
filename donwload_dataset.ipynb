{
 "cells": [
  {
   "cell_type": "code",
   "execution_count": null,
   "id": "d951d92a",
   "metadata": {},
   "outputs": [
    {
     "name": "stderr",
     "output_type": "stream",
     "text": [
      "/home/vcivale/WSI-RL-Tiles-Selection_3/.venv/lib/python3.10/site-packages/tqdm/auto.py:21: TqdmWarning: IProgress not found. Please update jupyter and ipywidgets. See https://ipywidgets.readthedocs.io/en/stable/user_install.html\n",
      "  from .autonotebook import tqdm as notebook_tqdm\n",
      "2025-07-06 17:04:01,347 - INFO - Downloading metadata file: metadata_2025-05-21.csv from nonchev/TCGA_digital_spatial_transcriptomics\n",
      "2025-07-06 17:04:01,684 - INFO - Metadata downloaded to: /home/vcivale/.cache/huggingface/hub/datasets--nonchev--TCGA_digital_spatial_transcriptomics/snapshots/51b26907124826f4d4c904824a0c4cbe303921a2/metadata_2025-05-21.csv\n",
      "2025-07-06 17:04:01,753 - INFO - Downloading metadata file: metadata_2025-05-21.csv from nonchev/TCGA_digital_spatial_transcriptomics\n"
     ]
    },
    {
     "name": "stdout",
     "output_type": "stream",
     "text": [
      "Downloaded metadata with 3779 entries.\n"
     ]
    },
    {
     "name": "stderr",
     "output_type": "stream",
     "text": [
      "2025-07-06 17:04:02,040 - INFO - Metadata downloaded to: /home/vcivale/.cache/huggingface/hub/datasets--nonchev--TCGA_digital_spatial_transcriptomics/snapshots/51b26907124826f4d4c904824a0c4cbe303921a2/metadata_2025-05-21.csv\n",
      "2025-07-06 17:04:02,068 - INFO - Preparing to download first 5 samples. This might take a while if many files.\n",
      "2025-07-06 17:04:02,069 - INFO - Starting download from nonchev/TCGA_digital_spatial_transcriptomics to /equilibrium/datasets/TCGA-histological-data/WSI/raw/h5ad with patterns: ['TCGA_SKCM/FFPE/TCGA-D9-A1JX-06Z-00-DX2.0B0F653F-D2C8-40EE-AF07-5A3DF2E3DD35.h5ad.gz', 'TCGA_SKCM/FFPE/TCGA-FS-A1ZU-06Z-00-DX3.0C477EE6-C085-42BE-8BAD-E3D6935ABE48.h5ad.gz', 'TCGA_SKCM/FFPE/TCGA-D3-A2JN-06Z-00-DX1.0AA7684E-2886-4A00-B808-39EA790B825A.h5ad.gz', 'TCGA_SKCM/FFPE/TCGA-WE-AA9Y-06Z-00-DX1.83813BA4-04FA-4AEA-A50D-B962A753A59E.h5ad.gz', 'TCGA_SKCM/FFPE/TCGA-EB-A42Y-01Z-00-DX1.C2F1ACDE-A147-4CAD-AB46-B1A4632BB4A7.h5ad.gz']\n",
      "Fetching 5 files:   0%|          | 0/5 [00:00<?, ?it/s]"
     ]
    }
   ],
   "source": [
    "# from trident.data.download_spatial_data import get_metadata, setup_huggingface, download_first_n_samples, download_all_samples\n",
    "# import os\n",
    "\n",
    "\n",
    "# metadata_df = get_metadata()\n",
    "# print(f\"Downloaded metadata with {len(metadata_df)} entries.\")\n",
    "\n",
    "# base_data_dir = '/equilibrium/datasets/TCGA-histological-data/WSI/raw/h5ad'\n",
    "\n",
    "# download_first_n_samples(n=5, output_base_dir=base_data_dir)"
   ]
  },
  {
   "cell_type": "code",
   "execution_count": 1,
   "id": "e0b0d95f",
   "metadata": {},
   "outputs": [
    {
     "name": "stderr",
     "output_type": "stream",
     "text": [
      "2025-07-06 15:44:54,651 - INFO - Directory di output impostata su: /home/vcivale/WSI-RL-Tiles-Selection_3/data/interim\n",
      "2025-07-06 15:44:54,653 - INFO - Tentativo di leggere AnnData da data/TCGA_SKCM/FFPE/TCGA-D3-A2JN-06Z-00-DX1.0AA7684E-2886-4A00-B808-39EA790B825A.h5ad.gz\n",
      "2025-07-06 15:44:54,653 - INFO - Tentativo di leggere AnnData da data/TCGA_SKCM/FFPE/TCGA-D3-A2JN-06Z-00-DX1.0AA7684E-2886-4A00-B808-39EA790B825A.h5ad.gz\n",
      "2025-07-06 15:46:05,627 - INFO - Lettura AnnData da data/TCGA_SKCM/FFPE/TCGA-D3-A2JN-06Z-00-DX1.0AA7684E-2886-4A00-B808-39EA790B825A.h5ad.gz completata con successo.\n",
      "2025-07-06 15:46:05,633 - INFO - Immagine WSI trovata in adata.uns['20x_slide'] con shape (37371, 46773, 4) e dtype uint8\n",
      "2025-07-06 15:46:05,634 - INFO - L'immagine WSI sembra essere RGBA. Verrà convertita in RGB durante il salvataggio.\n",
      "2025-07-06 15:46:05,635 - INFO - Estrazione delle coordinate spaziali e delle probabilità dei tessuti.\n",
      "2025-07-06 15:46:05,637 - INFO - Utilizzo di 'x_pixel' e 'y_pixel' da adata.obs per le coordinate.\n",
      "2025-07-06 15:46:05,638 - INFO - Trovata probabilità del tessuto: 'Tumor Probability' per la chiave 'tumor'.\n",
      "2025-07-06 15:46:05,639 - INFO - Trovata probabilità del tessuto: 'Stroma Probability' per la chiave 'stroma'.\n",
      "2025-07-06 15:46:05,640 - INFO - Trovata probabilità del tessuto: 'Blood and necrosis Probability' per la chiave 'blood_necrosis'.\n",
      "2025-07-06 15:46:05,641 - INFO - Estrazione dei dati spaziali completata.\n",
      "2025-07-06 15:46:05,642 - INFO - MPP calcolato da 'spot_diameter_20x' (160.0 pixel) in 'scaled_slide_info': 0.4062 µm/pixel.\n",
      "2025-07-06 15:46:05,643 - INFO - Salvataggio WSI su /home/vcivale/WSI-RL-Tiles-Selection_3/data/interim/TCGA-D3-A2JN-06Z-00-DX1.0AA7684E-2886-4A00-B808-39EA790B825A.tiff con MPP 0.4062...\n",
      "2025-07-06 15:46:05,627 - INFO - Lettura AnnData da data/TCGA_SKCM/FFPE/TCGA-D3-A2JN-06Z-00-DX1.0AA7684E-2886-4A00-B808-39EA790B825A.h5ad.gz completata con successo.\n",
      "2025-07-06 15:46:05,633 - INFO - Immagine WSI trovata in adata.uns['20x_slide'] con shape (37371, 46773, 4) e dtype uint8\n",
      "2025-07-06 15:46:05,634 - INFO - L'immagine WSI sembra essere RGBA. Verrà convertita in RGB durante il salvataggio.\n",
      "2025-07-06 15:46:05,635 - INFO - Estrazione delle coordinate spaziali e delle probabilità dei tessuti.\n",
      "2025-07-06 15:46:05,637 - INFO - Utilizzo di 'x_pixel' e 'y_pixel' da adata.obs per le coordinate.\n",
      "2025-07-06 15:46:05,638 - INFO - Trovata probabilità del tessuto: 'Tumor Probability' per la chiave 'tumor'.\n",
      "2025-07-06 15:46:05,639 - INFO - Trovata probabilità del tessuto: 'Stroma Probability' per la chiave 'stroma'.\n",
      "2025-07-06 15:46:05,640 - INFO - Trovata probabilità del tessuto: 'Blood and necrosis Probability' per la chiave 'blood_necrosis'.\n",
      "2025-07-06 15:46:05,641 - INFO - Estrazione dei dati spaziali completata.\n",
      "2025-07-06 15:46:05,642 - INFO - MPP calcolato da 'spot_diameter_20x' (160.0 pixel) in 'scaled_slide_info': 0.4062 µm/pixel.\n",
      "2025-07-06 15:46:05,643 - INFO - Salvataggio WSI su /home/vcivale/WSI-RL-Tiles-Selection_3/data/interim/TCGA-D3-A2JN-06Z-00-DX1.0AA7684E-2886-4A00-B808-39EA790B825A.tiff con MPP 0.4062...\n",
      "2025-07-06 15:46:08,294 - INFO - Conversione RGBA a RGB (rimozione canale alpha).\n",
      "2025-07-06 15:46:08,298 - INFO - Immagine finale per il salvataggio: shape=(37371, 46773, 3), dtype=uint8\n",
      "2025-07-06 15:46:08,301 - ERROR - Errore durante il salvataggio BigTIFF con compressione JPEG a /home/vcivale/WSI-RL-Tiles-Selection_3/data/interim/TCGA-D3-A2JN-06Z-00-DX1.0AA7684E-2886-4A00-B808-39EA790B825A.tiff: invalid argument 'cm'\n",
      "2025-07-06 15:46:08,302 - WARNING - Tentativo di salvare senza compressione come fallback.\n",
      "2025-07-06 15:46:08,294 - INFO - Conversione RGBA a RGB (rimozione canale alpha).\n",
      "2025-07-06 15:46:08,298 - INFO - Immagine finale per il salvataggio: shape=(37371, 46773, 3), dtype=uint8\n",
      "2025-07-06 15:46:08,301 - ERROR - Errore durante il salvataggio BigTIFF con compressione JPEG a /home/vcivale/WSI-RL-Tiles-Selection_3/data/interim/TCGA-D3-A2JN-06Z-00-DX1.0AA7684E-2886-4A00-B808-39EA790B825A.tiff: invalid argument 'cm'\n",
      "2025-07-06 15:46:08,302 - WARNING - Tentativo di salvare senza compressione come fallback.\n",
      "2025-07-06 15:46:08,304 - ERROR - Errore con fallback (nessuna compressione) per /home/vcivale/WSI-RL-Tiles-Selection_3/data/interim/TCGA-D3-A2JN-06Z-00-DX1.0AA7684E-2886-4A00-B808-39EA790B825A.tiff: invalid argument 'cm'\n",
      "2025-07-06 15:46:08,321 - ERROR - Salvataggio WSI per TCGA-D3-A2JN-06Z-00-DX1.0AA7684E-2886-4A00-B808-39EA790B825A fallito. Nessun file TIFF sarà disponibile.\n",
      "2025-07-06 15:46:08,322 - INFO - Salvataggio dei dati spaziali su /home/vcivale/WSI-RL-Tiles-Selection_3/data/interim/TCGA-D3-A2JN-06Z-00-DX1.0AA7684E-2886-4A00-B808-39EA790B825A_spatial.pkl...\n",
      "2025-07-06 15:46:08,304 - ERROR - Errore con fallback (nessuna compressione) per /home/vcivale/WSI-RL-Tiles-Selection_3/data/interim/TCGA-D3-A2JN-06Z-00-DX1.0AA7684E-2886-4A00-B808-39EA790B825A.tiff: invalid argument 'cm'\n",
      "2025-07-06 15:46:08,321 - ERROR - Salvataggio WSI per TCGA-D3-A2JN-06Z-00-DX1.0AA7684E-2886-4A00-B808-39EA790B825A fallito. Nessun file TIFF sarà disponibile.\n",
      "2025-07-06 15:46:08,322 - INFO - Salvataggio dei dati spaziali su /home/vcivale/WSI-RL-Tiles-Selection_3/data/interim/TCGA-D3-A2JN-06Z-00-DX1.0AA7684E-2886-4A00-B808-39EA790B825A_spatial.pkl...\n",
      "2025-07-06 15:46:08,325 - INFO - Dati spaziali salvati: /home/vcivale/WSI-RL-Tiles-Selection_3/data/interim/TCGA-D3-A2JN-06Z-00-DX1.0AA7684E-2886-4A00-B808-39EA790B825A_spatial.pkl\n",
      "2025-07-06 15:46:08,325 - INFO - Dati spaziali salvati: /home/vcivale/WSI-RL-Tiles-Selection_3/data/interim/TCGA-D3-A2JN-06Z-00-DX1.0AA7684E-2886-4A00-B808-39EA790B825A_spatial.pkl\n"
     ]
    },
    {
     "name": "stdout",
     "output_type": "stream",
     "text": [
      "Dati spaziali salvati in: /home/vcivale/WSI-RL-Tiles-Selection_3/data/interim/TCGA-D3-A2JN-06Z-00-DX1.0AA7684E-2886-4A00-B808-39EA790B825A_spatial.pkl\n"
     ]
    }
   ],
   "source": [
    "import os\n",
    "import shutil\n",
    "from trident.data.data_processing import process_h5ad_file\n",
    "\n",
    "# Il percorso al tuo file .h5ad\n",
    "h5ad_file_path = 'data/TCGA_SKCM/FFPE/TCGA-D3-A2JN-06Z-00-DX1.0AA7684E-2886-4A00-B808-39EA790B825A.h5ad.gz'\n",
    "\n",
    "# La directory dove vuoi salvare i file .tiff e .pkl\n",
    "output_directory = '/home/vcivale/WSI-RL-Tiles-Selection_3/data/interim'\n",
    "\n",
    "# Pulisci la directory di output prima di iniziare\n",
    "if os.path.exists(output_directory):\n",
    "    shutil.rmtree(output_directory)\n",
    "os.makedirs(output_directory, exist_ok=True) # Crea la directory se non esiste\n",
    "\n",
    "try:\n",
    "    wsi_output, spatial_output = process_h5ad_file(\n",
    "        file_h5ad_path=h5ad_file_path,\n",
    "        output_raw_dir=output_directory,\n",
    "        slide_key='20x_slide', # Questa chiave è stata confermata\n",
    "        verbose=True # Imposta a True per log dettagliati\n",
    "    )\n",
    "\n",
    "    if wsi_output:\n",
    "        print(f\"\\nImmagine WSI salvata in: {wsi_output}\")\n",
    "    if spatial_output:\n",
    "        print(f\"Dati spaziali salvati in: {spatial_output}\")\n",
    "\n",
    "except RuntimeError as e:\n",
    "    print(f\"Errore durante l'elaborazione del file: {e}\")\n",
    "except FileNotFoundError as e:\n",
    "    print(f\"Errore: file non trovato: {e}\")\n",
    "except Exception as e:\n",
    "    print(f\"Si è verificato un errore inatteso: {e}\")"
   ]
  }
 ],
 "metadata": {
  "kernelspec": {
   "display_name": ".venv",
   "language": "python",
   "name": "python3"
  },
  "language_info": {
   "codemirror_mode": {
    "name": "ipython",
    "version": 3
   },
   "file_extension": ".py",
   "mimetype": "text/x-python",
   "name": "python",
   "nbconvert_exporter": "python",
   "pygments_lexer": "ipython3",
   "version": "3.10.12"
  }
 },
 "nbformat": 4,
 "nbformat_minor": 5
}
